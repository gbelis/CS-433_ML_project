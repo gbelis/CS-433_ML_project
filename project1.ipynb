{
 "cells": [
  {
   "cell_type": "code",
   "execution_count": 134,
   "metadata": {},
   "outputs": [],
   "source": [
    "import numpy as np"
   ]
  },
  {
   "cell_type": "code",
   "execution_count": 135,
   "metadata": {},
   "outputs": [],
   "source": [
    "def MAE(y, pred):\n",
    "    return np.average(np.abs(y - pred))"
   ]
  },
  {
   "cell_type": "code",
   "execution_count": 136,
   "metadata": {},
   "outputs": [],
   "source": [
    "def MSE(y, pred):\n",
    "    return np.average((y - pred) ** 2)\n",
    "\n",
    "def MSE_gradient(y, tx, w):\n",
    "    return -1/tx.shape[0]*np.inner(tx.T, y - np.inner(tx, w))"
   ]
  },
  {
   "cell_type": "code",
   "execution_count": 137,
   "metadata": {},
   "outputs": [],
   "source": [
    "def gradient_descent(y, tx, initial_w, max_iters, gamma, loss = MAE):\n",
    "    B = initial_w\n",
    "    tx = np.c_[np.ones((tx.shape[0], 1)), tx]\n",
    "    for i in range(max_iters):\n",
    "\n",
    "        B = B - gamma * np.gradient(np.abs(np.inner(np.zeros(2), tx)), B)\n",
    "    return B"
   ]
  },
  {
   "cell_type": "code",
   "execution_count": 155,
   "metadata": {},
   "outputs": [
    {
     "data": {
      "text/plain": [
       "array([[ 2,  3,  4,  5],\n",
       "       [ 3,  5,  6,  8],\n",
       "       [ 4,  6,  8, 10],\n",
       "       [ 5,  8, 10, 13]])"
      ]
     },
     "execution_count": 155,
     "metadata": {},
     "output_type": "execute_result"
    }
   ],
   "source": [
    "np.dot(X, X.T)"
   ]
  },
  {
   "cell_type": "code",
   "execution_count": 154,
   "metadata": {},
   "outputs": [
    {
     "data": {
      "text/plain": [
       "(array([2.09090909, 2.54545455]),\n",
       " array([3.27272727]),\n",
       " 2,\n",
       " array([5.25371017, 0.63129192]))"
      ]
     },
     "execution_count": 154,
     "metadata": {},
     "output_type": "execute_result"
    }
   ],
   "source": [
    "np.linalg.lstsq(X, y)"
   ]
  },
  {
   "cell_type": "code",
   "execution_count": 160,
   "metadata": {},
   "outputs": [
    {
     "data": {
      "text/plain": [
       "(array([3., 1., 2.]), 0.0)"
      ]
     },
     "execution_count": 160,
     "metadata": {},
     "output_type": "execute_result"
    }
   ],
   "source": [
    "def least_squares(y, tx):\n",
    "    tx = np.c_[np.ones((tx.shape[0], 1)), tx]\n",
    "    B = np.inner(np.dot(np.linalg.inv(np.dot(tx.T, tx)), tx.T), y)\n",
    "    return B, MSE(y, np.inner(B, tx))\n",
    "\n",
    "#np.linalg.lstsq(y, X)\n",
    "\n",
    "least_squares(y, X)"
   ]
  },
  {
   "cell_type": "code",
   "execution_count": 165,
   "metadata": {},
   "outputs": [
    {
     "name": "stdout",
     "output_type": "stream",
     "text": [
      "(4, 3)\n"
     ]
    },
    {
     "data": {
      "text/plain": [
       "(array([2.44426794, 1.24966905, 2.05242256]), 0.02933628558344506)"
      ]
     },
     "execution_count": 165,
     "metadata": {},
     "output_type": "execute_result"
    }
   ],
   "source": [
    "def ridge_loss(y, tx, lambda_, B):\n",
    "    MSE(y, np.inner(tx, B)) + lambda_ * np.sum(B**2)\n",
    "\n",
    "def ridge_regression(y, tx, lambda_):\n",
    "    tx = np.c_[np.ones((tx.shape[0], 1)), tx]\n",
    "    print(tx.shape)\n",
    "    B = np.inner(np.dot(np.linalg.inv(np.dot(tx.T, tx) + lambda_/(2*tx.shape[0]) * np.eye(tx.shape[1])), tx.T), y)\n",
    "    return B, MSE(y, np.inner(B, tx))\n",
    "\n",
    "\n",
    "ridge_regression(y, X, 1)"
   ]
  },
  {
   "cell_type": "code",
   "execution_count": 140,
   "metadata": {},
   "outputs": [],
   "source": [
    "# Linear regression, MSE Loss, Gradient descent\n",
    "\n",
    "def gradient_descent(y, tx, initial_w, max_iters, gamma, loss = MAE):\n",
    "    B = initial_w\n",
    "    hist = []\n",
    "    # adding offset\n",
    "    tx = np.c_[np.ones((tx.shape[0], 1)), tx]\n",
    "    \n",
    "    for _ in range(max_iters):\n",
    "        B -= gamma * MSE_gradient(y,tx,B)\n",
    "        hist.append(np.linalg.norm(np.inner(tx.T, y - np.inner(tx, B))))\n",
    "\n",
    "    return B, hist"
   ]
  },
  {
   "cell_type": "code",
   "execution_count": 141,
   "metadata": {},
   "outputs": [
    {
     "data": {
      "text/plain": [
       "array([1., 2.])"
      ]
     },
     "execution_count": 141,
     "metadata": {},
     "output_type": "execute_result"
    }
   ],
   "source": [
    "# Test From scikit learn\n",
    "\n",
    "from sklearn.linear_model import LinearRegression\n",
    "X = np.array([[1, 1], [1, 2], [2, 2], [2, 3]])\n",
    "# y = 1 * x_0 + 2 * x_1 + 3\n",
    "y = np.dot(X, np.array([1, 2])) + 3\n",
    "reg = LinearRegression().fit(X, y)\n",
    "reg.score(X, y)\n",
    "reg.coef_\n"
   ]
  },
  {
   "cell_type": "code",
   "execution_count": 142,
   "metadata": {},
   "outputs": [
    {
     "data": {
      "image/png": "[encoded data removed]",
      "text/plain": [
       "<Figure size 432x288 with 1 Axes>"
      ]
     },
     "metadata": {
      "needs_background": "light"
     },
     "output_type": "display_data"
    }
   ],
   "source": [
    "b , hist = gradient_descent(y, X, np.zeros(3), 2000, 0.25)\n",
    "import matplotlib.pyplot as plt\n",
    "plt.plot(hist)\n",
    "plt.yscale('log')\n",
    "plt.title('log')\n",
    "plt.grid(True)"
   ]
  },
  {
   "cell_type": "code",
   "execution_count": 143,
   "metadata": {},
   "outputs": [],
   "source": [
    "# Linear regression, MSE Loss, Gradient descent\n",
    "\n",
    "def sgd(y, tx, initial_w, max_iters, gamma, loss = MAE, batch = 2):\n",
    "    B = initial_w\n",
    "    hist = []\n",
    "    # adding offset\n",
    "    tx = np.c_[np.ones((tx.shape[0], 1)), tx]\n",
    "    \n",
    "    for _ in range(max_iters):\n",
    "        idx = np.random.randint(tx.shape[0], size=batch)\n",
    "        tx_, y_ = tx[idx], y[idx]\n",
    "        B -= gamma * MSE_gradient(y_,tx_,B)\n",
    "        hist.append(np.linalg.norm(np.inner(tx_.T, y_ - np.inner(tx_, B))))\n",
    "\n",
    "    return B, hist"
   ]
  },
  {
   "cell_type": "code",
   "execution_count": 144,
   "metadata": {},
   "outputs": [
    {
     "data": {
      "image/png": "[encoded data removed]",
      "text/plain": [
       "<Figure size 432x288 with 1 Axes>"
      ]
     },
     "metadata": {
      "needs_background": "light"
     },
     "output_type": "display_data"
    }
   ],
   "source": [
    "b , hist = sgd(y, X, np.zeros(3), 5000, 0.25)\n",
    "import matplotlib.pyplot as plt\n",
    "plt.plot(hist)\n",
    "plt.plot(np.convolve(hist, np.ones(100)/100, mode='valid'))\n",
    "plt.yscale('log')\n",
    "plt.title('log')\n",
    "plt.grid(True)"
   ]
  },
  {
   "cell_type": "code",
   "execution_count": null,
   "metadata": {},
   "outputs": [],
   "source": []
  }
 ],
 "metadata": {
  "interpreter": {
   "hash": "baacb5817b68984be686241e0277e72d2506021b8bfcfede08eb106e8e9e210c"
  },
  "kernelspec": {
   "display_name": "Python 3.8.8 ('base')",
   "language": "python",
   "name": "python3"
  },
  "language_info": {
   "codemirror_mode": {
    "name": "ipython",
    "version": 3
   },
   "file_extension": ".py",
   "mimetype": "text/x-python",
   "name": "python",
   "nbconvert_exporter": "python",
   "pygments_lexer": "ipython3",
   "version": "3.8.8"
  },
  "orig_nbformat": 4
 },
 "nbformat": 4,
 "nbformat_minor": 2
}
